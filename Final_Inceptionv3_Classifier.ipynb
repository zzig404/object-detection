{
 "cells": [
  {
   "cell_type": "code",
   "execution_count": 1,
   "metadata": {
    "colab": {
     "base_uri": "https://localhost:8080/"
    },
    "id": "HW58jG1auoyD",
    "outputId": "45a83993-07a0-442a-e30b-2de50027aa0e"
   },
   "outputs": [],
   "source": [
    "!pip install -q streamlit"
   ]
  },
  {
   "cell_type": "code",
   "execution_count": 2,
   "metadata": {
    "colab": {
     "base_uri": "https://localhost:8080/"
    },
    "id": "4J5gHSPMupn4",
    "outputId": "662195bc-d393-45bc-d0a3-3cca75fb3606"
   },
   "outputs": [],
   "source": [
    "!pip -q install pyngrok"
   ]
  },
  {
   "cell_type": "code",
   "execution_count": 3,
   "metadata": {
    "id": "a5Pb7vjguzQL"
   },
   "outputs": [],
   "source": [
    "from pyngrok import ngrok"
   ]
  },
  {
   "cell_type": "code",
   "execution_count": 4,
   "metadata": {
    "colab": {
     "base_uri": "https://localhost:8080/"
    },
    "id": "IxQZkI4Su4Hu",
    "outputId": "2bd04109-e78b-48b5-f4de-827257171093"
   },
   "outputs": [
    {
     "name": "stdout",
     "output_type": "stream",
     "text": [
      "Downloading ngrok ...\n"
     ]
    },
    {
     "name": "stderr",
     "output_type": "stream",
     "text": [
      "Traceback (most recent call last):\n",
      "  File \"C:\\Users\\lynnz\\anaconda3\\lib\\urllib\\request.py\", line 1346, in do_open\n",
      "    h.request(req.get_method(), req.selector, req.data, headers,\n",
      "  File \"C:\\Users\\lynnz\\anaconda3\\lib\\http\\client.py\", line 1279, in request\n",
      "    self._send_request(method, url, body, headers, encode_chunked)\n",
      "  File \"C:\\Users\\lynnz\\anaconda3\\lib\\http\\client.py\", line 1325, in _send_request\n",
      "    self.endheaders(body, encode_chunked=encode_chunked)\n",
      "  File \"C:\\Users\\lynnz\\anaconda3\\lib\\http\\client.py\", line 1274, in endheaders\n",
      "    self._send_output(message_body, encode_chunked=encode_chunked)\n",
      "  File \"C:\\Users\\lynnz\\anaconda3\\lib\\http\\client.py\", line 1034, in _send_output\n",
      "    self.send(msg)\n",
      "  File \"C:\\Users\\lynnz\\anaconda3\\lib\\http\\client.py\", line 974, in send\n",
      "    self.connect()\n",
      "  File \"C:\\Users\\lynnz\\anaconda3\\lib\\http\\client.py\", line 1441, in connect\n",
      "    super().connect()\n",
      "  File \"C:\\Users\\lynnz\\anaconda3\\lib\\http\\client.py\", line 945, in connect\n",
      "    self.sock = self._create_connection(\n",
      "  File \"C:\\Users\\lynnz\\anaconda3\\lib\\socket.py\", line 844, in create_connection\n",
      "    raise err\n",
      "  File \"C:\\Users\\lynnz\\anaconda3\\lib\\socket.py\", line 832, in create_connection\n",
      "    sock.connect(sa)\n",
      "socket.timeout: timed out\n",
      "\n",
      "During handling of the above exception, another exception occurred:\n",
      "\n",
      "Traceback (most recent call last):\n",
      "  File \"C:\\Users\\lynnz\\anaconda3\\lib\\site-packages\\pyngrok\\installer.py\", line 94, in install_ngrok\n",
      "    download_path = _download_file(url, **kwargs)\n",
      "  File \"C:\\Users\\lynnz\\anaconda3\\lib\\site-packages\\pyngrok\\installer.py\", line 215, in _download_file\n",
      "    response = urlopen(url, **kwargs)\n",
      "  File \"C:\\Users\\lynnz\\anaconda3\\lib\\urllib\\request.py\", line 214, in urlopen\n",
      "    return opener.open(url, data, timeout)\n",
      "  File \"C:\\Users\\lynnz\\anaconda3\\lib\\urllib\\request.py\", line 517, in open\n",
      "    response = self._open(req, data)\n",
      "  File \"C:\\Users\\lynnz\\anaconda3\\lib\\urllib\\request.py\", line 534, in _open\n",
      "    result = self._call_chain(self.handle_open, protocol, protocol +\n",
      "  File \"C:\\Users\\lynnz\\anaconda3\\lib\\urllib\\request.py\", line 494, in _call_chain\n",
      "    result = func(*args)\n",
      "  File \"C:\\Users\\lynnz\\anaconda3\\lib\\urllib\\request.py\", line 1389, in https_open\n",
      "    return self.do_open(http.client.HTTPSConnection, req,\n",
      "  File \"C:\\Users\\lynnz\\anaconda3\\lib\\urllib\\request.py\", line 1349, in do_open\n",
      "    raise URLError(err)\n",
      "urllib.error.URLError: <urlopen error timed out>\n",
      "\n",
      "During handling of the above exception, another exception occurred:\n",
      "\n",
      "Traceback (most recent call last):\n",
      "  File \"C:\\Users\\lynnz\\anaconda3\\lib\\runpy.py\", line 197, in _run_module_as_main\n",
      "    return _run_code(code, main_globals, None,\n",
      "  File \"C:\\Users\\lynnz\\anaconda3\\lib\\runpy.py\", line 87, in _run_code\n",
      "    exec(code, run_globals)\n",
      "  File \"C:\\Users\\lynnz\\anaconda3\\Scripts\\ngrok.exe\\__main__.py\", line 7, in <module>\n",
      "  File \"C:\\Users\\lynnz\\anaconda3\\lib\\site-packages\\pyngrok\\ngrok.py\", line 501, in main\n",
      "    run(sys.argv[1:])\n",
      "  File \"C:\\Users\\lynnz\\anaconda3\\lib\\site-packages\\pyngrok\\ngrok.py\", line 487, in run\n",
      "    install_ngrok(pyngrok_config)\n",
      "  File \"C:\\Users\\lynnz\\anaconda3\\lib\\site-packages\\pyngrok\\ngrok.py\", line 98, in install_ngrok\n",
      "    installer.install_ngrok(pyngrok_config.ngrok_path)\n",
      "  File \"C:\\Users\\lynnz\\anaconda3\\lib\\site-packages\\pyngrok\\installer.py\", line 98, in install_ngrok\n",
      "    raise PyngrokNgrokInstallError(\"An error occurred while downloading ngrok from {}: {}\".format(url, e))\n",
      "pyngrok.exception.PyngrokNgrokInstallError: An error occurred while downloading ngrok from https://bin.equinox.io/c/4VmDzA7iaHb/ngrok-stable-windows-amd64.zip: <urlopen error timed out>\n"
     ]
    }
   ],
   "source": [
    "!ngrok authtoken 1npJviy2rm2H1RzUbevBUv2GLGw_ep9y73PeZMfA5zeSBzzs"
   ]
  },
  {
   "cell_type": "markdown",
   "metadata": {
    "colab": {
     "base_uri": "https://localhost:8080/"
    },
    "id": "CUn30zvMwTEM",
    "outputId": "8b6fe34e-a5b1-418f-e966-bb937e091b81"
   },
   "source": [
    "from google.colab import drive \n",
    "drive.mount('/content/drive')"
   ]
  },
  {
   "cell_type": "code",
   "execution_count": 5,
   "metadata": {
    "id": "ilhproTi3QSp"
   },
   "outputs": [],
   "source": [
    "%matplotlib inline"
   ]
  },
  {
   "cell_type": "code",
   "execution_count": 6,
   "metadata": {
    "colab": {
     "base_uri": "https://localhost:8080/"
    },
    "id": "DksLvX_Ru6V2",
    "outputId": "670da3ee-6fa1-4299-817a-1c904e36a57d"
   },
   "outputs": [
    {
     "name": "stdout",
     "output_type": "stream",
     "text": [
      "Overwriting obj_detection.py\n"
     ]
    }
   ],
   "source": [
    "%%writefile obj_detection.py\n",
    "import streamlit as st\n",
    "import cv2\n",
    "import os\n",
    "import sys \n",
    "import numpy as np\n",
    "import tempfile\n",
    "import math\n",
    "from PIL import Image\n",
    "import matplotlib.pyplot as plt\n",
    "from keras.preprocessing import image\n",
    "from skimage.transform import resize\n",
    "import tensorflow as tf\n",
    "from keras.layers import Dense, Activation, Dropout, Bidirectional\n",
    "from keras.layers.recurrent import LSTM\n",
    "from keras.models import Sequential\n",
    "from keras import backend as K\n",
    "from keras.utils import np_utils\n",
    "from sklearn.model_selection import train_test_split\n",
    "from keras.callbacks import ModelCheckpoint\n",
    "from keras.layers import Conv2D, Activation, MaxPooling2D, Dropout, Flatten, Dense,InputLayer\n",
    "from keras.utils.vis_utils import plot_model\n",
    "from keras.preprocessing.image import img_to_array\n",
    "from keras.preprocessing.image import load_img\n",
    "from keras.applications.vgg16 import VGG16\n",
    "from keras.applications.vgg16 import preprocess_input\n",
    "from keras.applications.vgg16 import decode_predictions\n",
    "# Load the model\n",
    "model = VGG16(weights='imagenet')\n",
    "\n",
    "\n",
    "PAGE_CONFIG = {\"page_title\":\"StColab.io\", \"page_icon\":\":smiley:\",\"layout\":\"centered\"}\n",
    "st.set_page_config(\"Main Menu\")\n",
    "\n",
    "st.title(\"Object Detection with InceptionV3\")\n",
    "st.text(\"Choose UPLOAD on the dropdown menu to upload your own video and search for objects\")\n",
    "\n",
    "# Play video whilist the predictions are loading\n",
    "video_file = open('./uploads/Trackhawk.mp4', 'rb')\n",
    "video_bytes = video_file.read()\n",
    "st.video(video_bytes)\n",
    "\n",
    "page = st.sidebar.selectbox(\"Choose action\", [\"Classify\", \"Upload\"]) \n",
    "def main():\n",
    "  st.sidebar.title(\"Dashboard\")\n",
    "  #Home = st.sidebar.button('Detect objects', key='home')\n",
    "  #Upload = st.sidebar.button('Upload video',key='upload')\n",
    "\n",
    "  if page == \"Classify\":\n",
    "    #Load a video from file\n",
    "    video_input_file_path = ('./uploads/Trackhawk.mp4')\n",
    "\n",
    "   \n",
    "\n",
    "    #Output file\n",
    "    feature_output_file_path = ('./Frames/')\n",
    "\n",
    "    # Capturing the video from path\n",
    "    video = cv2.VideoCapture(video_input_file_path)\n",
    "    frameRate = video.get(5)\n",
    "\n",
    "    #Creating frames from the given video\n",
    "    import math\n",
    "    count = 0\n",
    "    while(video.isOpened()):\n",
    "        frameNum = video.get(1)\n",
    "        ret, frame = video.read()\n",
    "        if (ret != True):\n",
    "            break\n",
    "        if (frameNum % math.floor(frameRate) == 0):\n",
    "            frameName = feature_output_file_path + \"frame%d.jpg\" % count;count+=1\n",
    "            cv2.imwrite(frameName, frame)\n",
    "    video.release()\n",
    "    st.text(\"Frame Capturing complete!\")\n",
    "\n",
    "    frames = './Frames/*.jpg'\n",
    "\n",
    "    # Converting the images to arrays\n",
    "    images = []\n",
    "    import glob\n",
    "    for filename in glob.glob(frames): \n",
    "      frame = image.load_img(filename, target_size=(224,224,224)) \n",
    "      images.append(frame)\n",
    "\n",
    "    \n",
    "    for frame in images:\n",
    "      frame_arr = image.img_to_array(frame)\n",
    "    \n",
    "    #frame_arr.shape\n",
    "    frame_arr = np.expand_dims(frame_arr, axis = 0)\n",
    "\n",
    "    # prepare the image for the VGG model\n",
    "    img = preprocess_input(frame_arr)\n",
    "\n",
    "    # predict the probability across all output classes\n",
    "    yhat = model.predict(img)\n",
    "\n",
    "    # convert the probabilities to class labels\n",
    "    from keras.applications.vgg16 import decode_predictions\n",
    "    label = decode_predictions(yhat)\n",
    "\n",
    "    # retrieve the most likely result, e.g. highest probability\n",
    "    label = label[0][0]\n",
    "\n",
    "\n",
    "    # print the classification\n",
    "    with st.beta_container():\n",
    "      col1, col2 = st.beta_columns([5,5])\n",
    "      with col1:\n",
    "        st.text(\"Object with highest classfication\")\n",
    "        st.write('%s (%.2f%%)' % (label[1], label[2]*100))\n",
    "      with col2:\n",
    "        st.image(yhat)\n",
    "\n",
    "  ########################################################\n",
    "  if page == \"Upload\":\n",
    "    # If the user decides to upload own video\n",
    "    st.text(\"Upload to search for objects in the video\")\n",
    "    def uploadFile():\n",
    "      vid_file = st.file_uploader(\"Upload a video\", type=[\"mp4\", \"mov\",\"avi\"])\n",
    "      tempVideo = tempfile.NamedTemporaryFile(delete=False) \n",
    "      if vid_file is not None: \n",
    "        tempVideo.write(vid_file.read())\n",
    "      return tempVideo.name\n",
    "    # Capturing video frames \n",
    "    def splitVideo(videoPath):\n",
    "      import math\n",
    "      count = 0\n",
    "      cap = cv2.VideoCapture(videoPath)\n",
    "      frameRate = cap.get(5) \n",
    "      tempImage = tempfile.NamedTemporaryFile(delete=False) \n",
    "      x=1\n",
    "      # Splitting video frames into photos\n",
    "      while(cap.isOpened()):\n",
    "        frameId = cap.get(1) \n",
    "        ret, frame = cap.read()\n",
    "        if (ret != True):\n",
    "          break\n",
    "        if (frameId % math.floor(frameRate) == 0):\n",
    "          tempImage = videoPath.split('.')[0] +\"_frame%d.jpg\" % count;count+=1\n",
    "          cv2.imwrite(tempImage, frame)\n",
    "          frames.append(tempImage)\n",
    "      cap.release() \n",
    "      return frames,count\n",
    "    # Classifying the objects\n",
    "    def classifyObjects():  \n",
    "      model = VGG16()\n",
    "      from keras.applications.vgg16 import decode_predictions\n",
    "      classify = []\n",
    "      frames,count = splitVideo(videoFile)\n",
    "\n",
    "      for i in range(count):    \n",
    "        image = load_img(frames[i], target_size=(224, 224)) \n",
    "        image = img_to_array(image)\n",
    "        image = image.reshape((1, image.shape[0], image.shape[1], image.shape[2]))\n",
    "        # prepare the image for the VGG model\n",
    "        image = preprocess_input(image)\n",
    "        # predict the probability across all output classes   \n",
    "        img_pred = model.predict(image)\n",
    "        # convert the probabilities to class labels\n",
    "        label = decode_predictions(img_pred)    \n",
    "        label = label[0][0]\n",
    "        result =  label[1]\n",
    "        classify.append(result)\n",
    "      return classify\n",
    "\n",
    "    def searchInFrames(object_):\n",
    "      indeces = []\n",
    "      classifications = classifyObjects()\n",
    "      if object_ in classifications:\n",
    "        for i in range(len(classifications)):\n",
    "          if classifications[i] == object_:\n",
    "            index = classifications.index(object_)\n",
    "            indeces.append(index)\n",
    "            filePath = frames[index]\n",
    "            img = load_img(filePath, target_size = (224, 224))\n",
    "            detected_paths.append(filePath)\n",
    "        for i in range(len(indeces)):\n",
    "          st.image(frames[i], width=224)\n",
    "      else:\n",
    "        st.write(\"Object not available in video!\")\n",
    "\n",
    "    videoFile = uploadFile()\n",
    "    user_input = st.text_input(\"Enter object to search: \")\n",
    "\n",
    "    if st.button('Search'):  \n",
    "      frames =[]\n",
    "      detected_paths = []\n",
    "      searchInFrames(user_input)\n",
    "      st.write(\"\")\n",
    "\n",
    "\n",
    "if __name__ == '__main__':\n",
    "  main()"
   ]
  },
  {
   "cell_type": "markdown",
   "metadata": {
    "id": "8VFQwKfuVsCb"
   },
   "source": [
    "**Run the code below when more than 2 tunnels are running**"
   ]
  },
  {
   "cell_type": "code",
   "execution_count": null,
   "metadata": {
    "id": "nofnwd7W1BZV"
   },
   "outputs": [],
   "source": [
    "ngrok.kill()"
   ]
  }
 ],
 "metadata": {
  "colab": {
   "collapsed_sections": [],
   "name": "Final VGG16 Classifier.ipynb",
   "provenance": []
  },
  "kernelspec": {
   "display_name": "Python 3 (ipykernel)",
   "language": "python",
   "name": "python3"
  },
  "language_info": {
   "codemirror_mode": {
    "name": "ipython",
    "version": 3
   },
   "file_extension": ".py",
   "mimetype": "text/x-python",
   "name": "python",
   "nbconvert_exporter": "python",
   "pygments_lexer": "ipython3",
   "version": "3.9.7"
  }
 },
 "nbformat": 4,
 "nbformat_minor": 1
}
